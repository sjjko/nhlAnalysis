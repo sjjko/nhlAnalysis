{
 "cells": [
  {
   "cell_type": "markdown",
   "metadata": {},
   "source": [
    "<!-- bibtex  \n",
    "\n",
    "@book{zaki2014data,\n",
    "      title={Data mining and analysis: fundamental concepts and algorithms},                              \n",
    "        author={Zaki, Mohammed J and Meira Jr, Wagner},                                                   \n",
    "          year={2014},                                                                                    \n",
    "            publisher={Cambridge University Press}                                                        \n",
    "}     \n",
    "\n",
    "--> "
   ]
  },
  {
   "cell_type": "markdown",
   "metadata": {},
   "source": [
    "<!-- bibtex  \n",
    "\n",
    "@book{zaki2014data,\n",
    "      title={Data mining and analysis: fundamental concepts and algorithms},                              \n",
    "        author={Zaki, Mohammed J and Meira Jr, Wagner},                                                   \n",
    "          year={2014},                                                                                    \n",
    "            publisher={Cambridge University Press}                                                        \n",
    "}     \n",
    "\n",
    "--> "
   ]
  },
  {
   "cell_type": "raw",
   "metadata": {},
   "source": [
    "<!-- bibtex  \n",
    "\n",
    "@book{zaki2014data,\n",
    "      title={Data mining and analysis: fundamental concepts and algorithms},                              \n",
    "        author={Zaki, Mohammed J and Meira Jr, Wagner},                                                   \n",
    "          year={2014},                                                                                    \n",
    "            publisher={Cambridge University Press}                                                        \n",
    "}     \n",
    "\n",
    "--> "
   ]
  },
  {
   "cell_type": "code",
   "execution_count": null,
   "metadata": {
    "collapsed": true
   },
   "outputs": [],
   "source": []
  }
 ],
 "metadata": {
  "kernelspec": {
   "display_name": "R",
   "language": "R",
   "name": "ir"
  },
  "language_info": {
   "codemirror_mode": "r",
   "file_extension": ".r",
   "mimetype": "text/x-r-source",
   "name": "R",
   "pygments_lexer": "r",
   "version": "3.2.3"
  }
 },
 "nbformat": 4,
 "nbformat_minor": 0
}
