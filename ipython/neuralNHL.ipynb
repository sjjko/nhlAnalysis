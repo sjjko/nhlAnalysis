{
 "cells": [
  {
   "cell_type": "code",
   "execution_count": 5,
   "metadata": {
    "collapsed": false
   },
   "outputs": [
    {
     "name": "stdout",
     "output_type": "stream",
     "text": [
      "The autoreload extension is already loaded. To reload it, use:\n",
      "  %reload_ext autoreload\n"
     ]
    }
   ],
   "source": [
    "%load_ext autoreload\n",
    "%autoreload 2\n",
    "%matplotlib inline\n",
    "import matplotlib.pyplot as plt\n",
    "import numpy as np"
   ]
  },
  {
   "cell_type": "raw",
   "metadata": {},
   "source": [
    "data mining of NHL data - author: s. konzett-stoffl\\nmethods devised after the book \"Data Mining and Analysis\" by Zakin and Meira\" using nhlscrapi, fetched at http://pythonhosted.org/nhlscrapi\\nand the analysis library scikit learn - the NHL scraper is nhlscrapi, written by Rob Howley - it is distributed under the Apache license - used version in 0.4.3."
   ]
  },
  {
   "cell_type": "raw",
   "metadata": {},
   "source": [
    "This notebook tries to predict NHL games outcomes and to this end uses a python class I've written to interface the NHL data I mined in the minerNHL notebook and feeds a pybrain neural network to predict games outcomes. The outcome is plotted using matplotlib."
   ]
  },
  {
   "cell_type": "raw",
   "metadata": {},
   "source": [
    "The data we investigate is only a subset of the whole, containing the local derbys between the New York Islanders and the New York Rangers. We split the data into a training part and a target part to test if:\n",
    "1.) it's possible at all to make predictions which are worth more than the throwing of a dice.\n",
    "2.) it's possible with the limited amount of data we have on our purpose:\n",
    "        - the number of derbys is limited even in multiple seasons\n",
    "        - the number of parameters we feed into the network are an atomic\n",
    "          subset of the whole"
   ]
  },
  {
   "cell_type": "raw",
   "metadata": {},
   "source": [
    "The idea in this investigation is to feed the network with data generated from the input data, describing the performance of both teams against each other and against other opponents. As I do not expect the outcome to depend only on the previous matchup and do not think that the outcome to be a completely Markovian process either, I tried to generate some kind of history of both teams to feed into the neural network. The following input parameters are used as input for the network:\n",
    "\n",
    "    1.) first team home matchup score, until current matchup\n",
    "    2.) second team home matchup score\n",
    "    3.) first teams performance over last N games\n",
    "    4.) second teams performance over last N games\n",
    "    5.) days off the first team had before matchup\n",
    "    6.) days off the second team had before matchup\n",
    "    \n",
    "The last two criteria were added after noting the (slight) difference it makes if a team has days off before playing or not. (see the R notebook \"winOrLooseNHL\")"
   ]
  },
  {
   "cell_type": "raw",
   "metadata": {},
   "source": [
    "First we read the NHL datasets using the prepareData class."
   ]
  },
  {
   "cell_type": "code",
   "execution_count": 6,
   "metadata": {
    "collapsed": false
   },
   "outputs": [
    {
     "name": "stdout",
     "output_type": "stream",
     "text": [
      "data preparation finished.\n",
      "we have found, read and processed the following datasets:\n",
      "following seasons for delta values: \n",
      "[2010, 2011, 2012, 2013, 2014, 2015, 2016]\n",
      "following seasons for summed values: \n",
      "[2010, 2011, 2012, 2013, 2014, 2015, 2016]\n"
     ]
    }
   ],
   "source": [
    "import sys\n",
    "sys.path.append('../')\n",
    "from setupNhlDataC import prepareDataC\n",
    "pDC=prepareDataC(\"all\",readUsingTK=False)\n",
    "pDC.prepareData()"
   ]
  },
  {
   "cell_type": "markdown",
   "metadata": {},
   "source": [
    "Now as the data is stored in the pDC instance of the data preparation class, we can initialize the Neural Network class. The data is transferred by the AnalysisC class, which interconnects the data analysis classes."
   ]
  },
  {
   "cell_type": "code",
   "execution_count": 8,
   "metadata": {
    "collapsed": false
   },
   "outputs": [
    {
     "name": "stdout",
     "output_type": "stream",
     "text": [
      "AnalysisC class instance successfully initialized!\n"
     ]
    }
   ],
   "source": [
    "from NHLstat import AnalysisC, NeuralNetworkAnalysisC\n",
    "aNC=AnalysisC(pDC)"
   ]
  },
  {
   "cell_type": "raw",
   "metadata": {},
   "source": [
    "Now, let's create an instance of the neural network class, which provides methods to prepare data, to run the network and to postprocess the data."
   ]
  },
  {
   "cell_type": "code",
   "execution_count": 9,
   "metadata": {
    "collapsed": false
   },
   "outputs": [],
   "source": [
    "nNC=NeuralNetworkAnalysisC(aNC)"
   ]
  },
  {
   "cell_type": "raw",
   "metadata": {},
   "source": [
    "The method AnalyzeMatchup in the NeuralNetworkAnalysisC class creates and runs the neural network. Here we step through the process step by step."
   ]
  },
  {
   "cell_type": "raw",
   "metadata": {},
   "source": [
    "First we choose the dataset of differences to be the dataset from which to extract the input."
   ]
  },
  {
   "cell_type": "code",
   "execution_count": 10,
   "metadata": {
    "collapsed": false
   },
   "outputs": [],
   "source": [
    "nNC.SetCurrentlyAnalyzedDataSetDict(0)"
   ]
  },
  {
   "cell_type": "raw",
   "metadata": {},
   "source": [
    "Now that we've set the data set to be the one with differences of game stats we prepare the data as described in the 6 categories above. Here we specify also the two teams to look at, it's my favorite team, the Islanders and the New York Rangers."
   ]
  },
  {
   "cell_type": "code",
   "execution_count": 11,
   "metadata": {
    "collapsed": false
   },
   "outputs": [
    {
     "name": "stdout",
     "output_type": "stream",
     "text": [
      "Finished the preparation of input data for Neural Network.\n",
      "The input dataset contains 34 samples \n",
      "We have 34 input datasets and one output dataset\n"
     ]
    }
   ],
   "source": [
    "nNC.SetupNNDataMatchup(\"NYI\",\"NYR\")"
   ]
  },
  {
   "cell_type": "raw",
   "metadata": {},
   "source": [
    "In the next step we divide the input data into a learning set and a target set. The input to the class method is a number between 0.5 and 0.9, giving the part of the data to be given the label of training data."
   ]
  },
  {
   "cell_type": "code",
   "execution_count": 12,
   "metadata": {
    "collapsed": false
   },
   "outputs": [
    {
     "name": "stdout",
     "output_type": "stream",
     "text": [
      "Training data prepared: \n",
      "Number of training patterns: 24\n",
      "Number of testing datasets: 10\n",
      "Input and output dimensions: 61\n",
      "First sample:\n",
      "Input data: [  0.5          0.33333333   0.           1.          10.           2.        ]\n",
      "Output data: [ 1.]\n"
     ]
    }
   ],
   "source": [
    "nNC.PrepareNNInputData(0.3)"
   ]
  },
  {
   "cell_type": "raw",
   "metadata": {},
   "source": [
    "In the next step we set parameters of the neural net architecture. As we do not know in advance how the net should look like, we try different configurations and test a posteriori which fits best. The first parameter we can choose is the number neurons in the hidden layer as a multiple of the number of neurons in the input layer. Our approach is entirely built upon a feed forward neuronal network, not using any backpropagatin features pybrain would give us. The second parameter is actually a set of two, setting the minimal and maximal number of hidden layers in the network. In the following the code tries each of the configurations in between and trains the network for the input data. As a starting point we vary the number of hidden layers from 1 to 3 and start with 2 times the neurons in the hidden layers compared to the input layer, which has 6 neurons in our case, one for each input parameter."
   ]
  },
  {
   "cell_type": "code",
   "execution_count": 13,
   "metadata": {
    "collapsed": true
   },
   "outputs": [],
   "source": [
    "nNC.SetNoHiddenNeuronLayersMinMax(1,3)\n",
    "nNC.SetHiddenNeuronsAsMultipleOfInputNeurons(3)"
   ]
  },
  {
   "cell_type": "raw",
   "metadata": {},
   "source": [
    "Using these parameters we are ready to build the feed forward neural network. We just read the parameter that we've set again. The purpose of setting the parameter in the first place becomes obvious later on. We set up the network with one hidden layer for a start."
   ]
  },
  {
   "cell_type": "code",
   "execution_count": 14,
   "metadata": {
    "collapsed": false
   },
   "outputs": [
    {
     "name": "stdout",
     "output_type": "stream",
     "text": [
      "Finished setup of a feed forward neural network with 1 hidden layers and 18 neurons in the hidden layers.\n"
     ]
    }
   ],
   "source": [
    "noHiddenNeuronsPerLayer=nNC.GetHiddenNeuronsAsMultipleOfInputNeurons()\n",
    "numberOfHiddenLayers=1\n",
    "nNC.SetupNeuralNetwork(numberOfHiddenLayers,noHiddenNeuronsPerLayer)"
   ]
  },
  {
   "cell_type": "raw",
   "metadata": {},
   "source": [
    "In the next step we execute the network for the first set of parameters."
   ]
  },
  {
   "cell_type": "code",
   "execution_count": 15,
   "metadata": {
    "collapsed": false
   },
   "outputs": [
    {
     "name": "stdout",
     "output_type": "stream",
     "text": [
      "The neuronal network predicted 70.0 % of the test data correctly\n"
     ]
    }
   ],
   "source": [
    "[nNC._outNNEstimateList,nNC._outNNActual,nNC._errNNPrct]=nNC.RunNeuralNetwork()"
   ]
  },
  {
   "cell_type": "raw",
   "metadata": {},
   "source": [
    "The plot below shows as blue dots the estimated results and as green line the connection between the input results of the target test data."
   ]
  },
  {
   "cell_type": "code",
   "execution_count": 182,
   "metadata": {
    "collapsed": false
   },
   "outputs": [
    {
     "name": "stdout",
     "output_type": "stream",
     "text": [
      "The best dataset so far predicted  [ 20.] % of the data right!\n"
     ]
    },
    {
     "ename": "ValueError",
     "evalue": "x and y can be no greater than 2-D",
     "output_type": "error",
     "traceback": [
      "\u001b[1;31m---------------------------------------------------------------------------\u001b[0m",
      "\u001b[1;31mValueError\u001b[0m                                Traceback (most recent call last)",
      "\u001b[1;32m<ipython-input-182-ec70500e0c0b>\u001b[0m in \u001b[0;36m<module>\u001b[1;34m()\u001b[0m\n\u001b[0;32m      8\u001b[0m         \u001b[0merrorList\u001b[0m\u001b[1;33m.\u001b[0m\u001b[0mappend\u001b[0m\u001b[1;33m(\u001b[0m\u001b[0mactual\u001b[0m\u001b[1;33m)\u001b[0m\u001b[1;33m\u001b[0m\u001b[0m\n\u001b[0;32m      9\u001b[0m \u001b[0mplt\u001b[0m\u001b[1;33m.\u001b[0m\u001b[0mplot\u001b[0m\u001b[1;33m(\u001b[0m\u001b[0mnNC\u001b[0m\u001b[1;33m.\u001b[0m\u001b[0m_outNNEstimateList\u001b[0m\u001b[1;33m,\u001b[0m\u001b[1;34m'o'\u001b[0m\u001b[1;33m,\u001b[0m \u001b[0mlabel\u001b[0m\u001b[1;33m=\u001b[0m\u001b[1;34m'estimated data'\u001b[0m\u001b[1;33m)\u001b[0m\u001b[1;33m\u001b[0m\u001b[0m\n\u001b[1;32m---> 10\u001b[1;33m \u001b[0mplt\u001b[0m\u001b[1;33m.\u001b[0m\u001b[0mplot\u001b[0m\u001b[1;33m(\u001b[0m\u001b[0mnNC\u001b[0m\u001b[1;33m.\u001b[0m\u001b[0m_outNNActual\u001b[0m\u001b[1;33m,\u001b[0m \u001b[0mlabel\u001b[0m\u001b[1;33m=\u001b[0m\u001b[1;34m'actual game data'\u001b[0m\u001b[1;33m)\u001b[0m\u001b[1;33m\u001b[0m\u001b[0m\n\u001b[0m\u001b[0;32m     11\u001b[0m \u001b[0mplt\u001b[0m\u001b[1;33m.\u001b[0m\u001b[0mplot\u001b[0m\u001b[1;33m(\u001b[0m\u001b[0merrorList\u001b[0m\u001b[1;33m,\u001b[0m\u001b[1;34m\"x\"\u001b[0m\u001b[1;33m,\u001b[0m\u001b[0mmarkersize\u001b[0m\u001b[1;33m=\u001b[0m\u001b[1;36m20\u001b[0m\u001b[1;33m,\u001b[0m \u001b[0mlabel\u001b[0m\u001b[1;33m=\u001b[0m\u001b[1;34m'failed prediction'\u001b[0m\u001b[1;33m)\u001b[0m\u001b[1;33m\u001b[0m\u001b[0m\n\u001b[0;32m     12\u001b[0m \u001b[0mplt\u001b[0m\u001b[1;33m.\u001b[0m\u001b[0mxlabel\u001b[0m\u001b[1;33m(\u001b[0m\u001b[1;34m\"number of data set\"\u001b[0m\u001b[1;33m)\u001b[0m\u001b[1;33m\u001b[0m\u001b[0m\n",
      "\u001b[1;32m/usr/lib/pymodules/python2.7/matplotlib/pyplot.pyc\u001b[0m in \u001b[0;36mplot\u001b[1;34m(*args, **kwargs)\u001b[0m\n\u001b[0;32m   2985\u001b[0m         \u001b[0max\u001b[0m\u001b[1;33m.\u001b[0m\u001b[0mhold\u001b[0m\u001b[1;33m(\u001b[0m\u001b[0mhold\u001b[0m\u001b[1;33m)\u001b[0m\u001b[1;33m\u001b[0m\u001b[0m\n\u001b[0;32m   2986\u001b[0m     \u001b[1;32mtry\u001b[0m\u001b[1;33m:\u001b[0m\u001b[1;33m\u001b[0m\u001b[0m\n\u001b[1;32m-> 2987\u001b[1;33m         \u001b[0mret\u001b[0m \u001b[1;33m=\u001b[0m \u001b[0max\u001b[0m\u001b[1;33m.\u001b[0m\u001b[0mplot\u001b[0m\u001b[1;33m(\u001b[0m\u001b[1;33m*\u001b[0m\u001b[0margs\u001b[0m\u001b[1;33m,\u001b[0m \u001b[1;33m**\u001b[0m\u001b[0mkwargs\u001b[0m\u001b[1;33m)\u001b[0m\u001b[1;33m\u001b[0m\u001b[0m\n\u001b[0m\u001b[0;32m   2988\u001b[0m         \u001b[0mdraw_if_interactive\u001b[0m\u001b[1;33m(\u001b[0m\u001b[1;33m)\u001b[0m\u001b[1;33m\u001b[0m\u001b[0m\n\u001b[0;32m   2989\u001b[0m     \u001b[1;32mfinally\u001b[0m\u001b[1;33m:\u001b[0m\u001b[1;33m\u001b[0m\u001b[0m\n",
      "\u001b[1;32m/usr/lib/pymodules/python2.7/matplotlib/axes.pyc\u001b[0m in \u001b[0;36mplot\u001b[1;34m(self, *args, **kwargs)\u001b[0m\n\u001b[0;32m   4135\u001b[0m         \u001b[0mlines\u001b[0m \u001b[1;33m=\u001b[0m \u001b[1;33m[\u001b[0m\u001b[1;33m]\u001b[0m\u001b[1;33m\u001b[0m\u001b[0m\n\u001b[0;32m   4136\u001b[0m \u001b[1;33m\u001b[0m\u001b[0m\n\u001b[1;32m-> 4137\u001b[1;33m         \u001b[1;32mfor\u001b[0m \u001b[0mline\u001b[0m \u001b[1;32min\u001b[0m \u001b[0mself\u001b[0m\u001b[1;33m.\u001b[0m\u001b[0m_get_lines\u001b[0m\u001b[1;33m(\u001b[0m\u001b[1;33m*\u001b[0m\u001b[0margs\u001b[0m\u001b[1;33m,\u001b[0m \u001b[1;33m**\u001b[0m\u001b[0mkwargs\u001b[0m\u001b[1;33m)\u001b[0m\u001b[1;33m:\u001b[0m\u001b[1;33m\u001b[0m\u001b[0m\n\u001b[0m\u001b[0;32m   4138\u001b[0m             \u001b[0mself\u001b[0m\u001b[1;33m.\u001b[0m\u001b[0madd_line\u001b[0m\u001b[1;33m(\u001b[0m\u001b[0mline\u001b[0m\u001b[1;33m)\u001b[0m\u001b[1;33m\u001b[0m\u001b[0m\n\u001b[0;32m   4139\u001b[0m             \u001b[0mlines\u001b[0m\u001b[1;33m.\u001b[0m\u001b[0mappend\u001b[0m\u001b[1;33m(\u001b[0m\u001b[0mline\u001b[0m\u001b[1;33m)\u001b[0m\u001b[1;33m\u001b[0m\u001b[0m\n",
      "\u001b[1;32m/usr/lib/pymodules/python2.7/matplotlib/axes.pyc\u001b[0m in \u001b[0;36m_grab_next_args\u001b[1;34m(self, *args, **kwargs)\u001b[0m\n\u001b[0;32m    315\u001b[0m                 \u001b[1;32mreturn\u001b[0m\u001b[1;33m\u001b[0m\u001b[0m\n\u001b[0;32m    316\u001b[0m             \u001b[1;32mif\u001b[0m \u001b[0mlen\u001b[0m\u001b[1;33m(\u001b[0m\u001b[0mremaining\u001b[0m\u001b[1;33m)\u001b[0m \u001b[1;33m<=\u001b[0m \u001b[1;36m3\u001b[0m\u001b[1;33m:\u001b[0m\u001b[1;33m\u001b[0m\u001b[0m\n\u001b[1;32m--> 317\u001b[1;33m                 \u001b[1;32mfor\u001b[0m \u001b[0mseg\u001b[0m \u001b[1;32min\u001b[0m \u001b[0mself\u001b[0m\u001b[1;33m.\u001b[0m\u001b[0m_plot_args\u001b[0m\u001b[1;33m(\u001b[0m\u001b[0mremaining\u001b[0m\u001b[1;33m,\u001b[0m \u001b[0mkwargs\u001b[0m\u001b[1;33m)\u001b[0m\u001b[1;33m:\u001b[0m\u001b[1;33m\u001b[0m\u001b[0m\n\u001b[0m\u001b[0;32m    318\u001b[0m                     \u001b[1;32myield\u001b[0m \u001b[0mseg\u001b[0m\u001b[1;33m\u001b[0m\u001b[0m\n\u001b[0;32m    319\u001b[0m                 \u001b[1;32mreturn\u001b[0m\u001b[1;33m\u001b[0m\u001b[0m\n",
      "\u001b[1;32m/usr/lib/pymodules/python2.7/matplotlib/axes.pyc\u001b[0m in \u001b[0;36m_plot_args\u001b[1;34m(self, tup, kwargs)\u001b[0m\n\u001b[0;32m    293\u001b[0m             \u001b[0mx\u001b[0m \u001b[1;33m=\u001b[0m \u001b[0mnp\u001b[0m\u001b[1;33m.\u001b[0m\u001b[0marange\u001b[0m\u001b[1;33m(\u001b[0m\u001b[0my\u001b[0m\u001b[1;33m.\u001b[0m\u001b[0mshape\u001b[0m\u001b[1;33m[\u001b[0m\u001b[1;36m0\u001b[0m\u001b[1;33m]\u001b[0m\u001b[1;33m,\u001b[0m \u001b[0mdtype\u001b[0m\u001b[1;33m=\u001b[0m\u001b[0mfloat\u001b[0m\u001b[1;33m)\u001b[0m\u001b[1;33m\u001b[0m\u001b[0m\n\u001b[0;32m    294\u001b[0m \u001b[1;33m\u001b[0m\u001b[0m\n\u001b[1;32m--> 295\u001b[1;33m         \u001b[0mx\u001b[0m\u001b[1;33m,\u001b[0m \u001b[0my\u001b[0m \u001b[1;33m=\u001b[0m \u001b[0mself\u001b[0m\u001b[1;33m.\u001b[0m\u001b[0m_xy_from_xy\u001b[0m\u001b[1;33m(\u001b[0m\u001b[0mx\u001b[0m\u001b[1;33m,\u001b[0m \u001b[0my\u001b[0m\u001b[1;33m)\u001b[0m\u001b[1;33m\u001b[0m\u001b[0m\n\u001b[0m\u001b[0;32m    296\u001b[0m \u001b[1;33m\u001b[0m\u001b[0m\n\u001b[0;32m    297\u001b[0m         \u001b[1;32mif\u001b[0m \u001b[0mself\u001b[0m\u001b[1;33m.\u001b[0m\u001b[0mcommand\u001b[0m \u001b[1;33m==\u001b[0m \u001b[1;34m'plot'\u001b[0m\u001b[1;33m:\u001b[0m\u001b[1;33m\u001b[0m\u001b[0m\n",
      "\u001b[1;32m/usr/lib/pymodules/python2.7/matplotlib/axes.pyc\u001b[0m in \u001b[0;36m_xy_from_xy\u001b[1;34m(self, x, y)\u001b[0m\n\u001b[0;32m    237\u001b[0m             \u001b[1;32mraise\u001b[0m \u001b[0mValueError\u001b[0m\u001b[1;33m(\u001b[0m\u001b[1;34m\"x and y must have same first dimension\"\u001b[0m\u001b[1;33m)\u001b[0m\u001b[1;33m\u001b[0m\u001b[0m\n\u001b[0;32m    238\u001b[0m         \u001b[1;32mif\u001b[0m \u001b[0mx\u001b[0m\u001b[1;33m.\u001b[0m\u001b[0mndim\u001b[0m \u001b[1;33m>\u001b[0m \u001b[1;36m2\u001b[0m \u001b[1;32mor\u001b[0m \u001b[0my\u001b[0m\u001b[1;33m.\u001b[0m\u001b[0mndim\u001b[0m \u001b[1;33m>\u001b[0m \u001b[1;36m2\u001b[0m\u001b[1;33m:\u001b[0m\u001b[1;33m\u001b[0m\u001b[0m\n\u001b[1;32m--> 239\u001b[1;33m             \u001b[1;32mraise\u001b[0m \u001b[0mValueError\u001b[0m\u001b[1;33m(\u001b[0m\u001b[1;34m\"x and y can be no greater than 2-D\"\u001b[0m\u001b[1;33m)\u001b[0m\u001b[1;33m\u001b[0m\u001b[0m\n\u001b[0m\u001b[0;32m    240\u001b[0m \u001b[1;33m\u001b[0m\u001b[0m\n\u001b[0;32m    241\u001b[0m         \u001b[1;32mif\u001b[0m \u001b[0mx\u001b[0m\u001b[1;33m.\u001b[0m\u001b[0mndim\u001b[0m \u001b[1;33m==\u001b[0m \u001b[1;36m1\u001b[0m\u001b[1;33m:\u001b[0m\u001b[1;33m\u001b[0m\u001b[0m\n",
      "\u001b[1;31mValueError\u001b[0m: x and y can be no greater than 2-D"
     ]
    },
    {
     "data": {
      "image/png": "[encoded data removed]",
      "text/plain": [
       "<matplotlib.figure.Figure at 0x7f3409109f90>"
      ]
     },
     "metadata": {},
     "output_type": "display_data"
    }
   ],
   "source": [
    "plt.figure(num=None, figsize=(10, 8))\n",
    "print \"The best dataset so far predicted \",nNC._errNNPrct[0],\"% of the data right!\"\n",
    "errorList=[]\n",
    "for (estimate,actual) in zip(nNC._outNNEstimateList,nNC._outNNActual):\n",
    "    if estimate==actual:\n",
    "        errorList.append(np.nan)\n",
    "    else:\n",
    "        errorList.append(actual)\n",
    "plt.plot(nNC._outNNEstimateList,'o', label='estimated data')\n",
    "plt.plot(nNC._outNNActual, label='actual game data')\n",
    "plt.plot(errorList,\"x\",markersize=20, label='failed prediction')\n",
    "plt.xlabel(\"number of data set\")\n",
    "plt.ylabel(\"win=1/loss=0\")\n",
    "plt.legend(fontsize=20)\n",
    "axes = plt.gca()\n",
    "axes.set_ylim([-0.4,1.9])\n",
    "axes.set_xlim([-1,len(nNC._outNNActual)+1]);\n",
    "for item in ([axes.title, axes.xaxis.label, axes.yaxis.label] +\n",
    "             axes.get_xticklabels() + axes.get_yticklabels()):\n",
    "    item.set_fontsize(20)"
   ]
  },
  {
   "cell_type": "raw",
   "metadata": {},
   "source": [
    "The first result is not more promising than the toss of a dice, but may become better with increasing complexity of the neural network structure. To this end we compute the neural network structure for multiple neural networks and compare the outcomes to see if we can beat the dice."
   ]
  },
  {
   "cell_type": "code",
   "execution_count": 180,
   "metadata": {
    "collapsed": false
   },
   "outputs": [
    {
     "name": "stdout",
     "output_type": "stream",
     "text": [
      "Finished setup of a feed forward neural network with 1 hidden layers and 6 neurons in the hidden layers.\n",
      "The neuronal network predicted 20.0 % of the test data correctly\n",
      "****************\n",
      "Finished setup of a feed forward neural network with 2 hidden layers and 6 neurons in the hidden layers.\n",
      "The neuronal network predicted 40.0 % of the test data correctly\n",
      "****************\n",
      "Finished setup of a feed forward neural network with 3 hidden layers and 6 neurons in the hidden layers.\n",
      "The neuronal network predicted 20.0 % of the test data correctly\n",
      "****************\n",
      "Finished setup of a feed forward neural network with 1 hidden layers and 12 neurons in the hidden layers.\n",
      "The neuronal network predicted 10.0 % of the test data correctly\n",
      "****************\n",
      "Finished setup of a feed forward neural network with 2 hidden layers and 12 neurons in the hidden layers.\n",
      "The neuronal network predicted 50.0 % of the test data correctly\n",
      "****************\n",
      "Finished setup of a feed forward neural network with 3 hidden layers and 12 neurons in the hidden layers.\n",
      "The neuronal network predicted 60.0 % of the test data correctly\n",
      "****************\n",
      "Finished setup of a feed forward neural network with 1 hidden layers and 18 neurons in the hidden layers.\n",
      "The neuronal network predicted 30.0 % of the test data correctly\n",
      "****************\n",
      "Finished setup of a feed forward neural network with 2 hidden layers and 18 neurons in the hidden layers.\n",
      "The neuronal network predicted 30.0 % of the test data correctly\n",
      "****************\n",
      "Finished setup of a feed forward neural network with 3 hidden layers and 18 neurons in the hidden layers.\n",
      "The neuronal network predicted 60.0 % of the test data correctly\n",
      "****************\n"
     ]
    }
   ],
   "source": [
    "nNC._outNNEstimateList=[]\n",
    "nNC._outNNActual=[]\n",
    "nNC._errNNPrct=[]\n",
    "for noNeuronsInHiddenLayer in range(1,nNC._NONEURONSHIDDENLAYER_MULTIPLE_OF_INPUT_NEURONS+1):\n",
    "    for nohiddenLayers in range(nNC._NOHIDDENLAYERSMIN,nNC._NOHIDDENLAYERSMAX+1):\n",
    "    #setup of the new neural network\n",
    "        nNC.SetupNeuralNetwork(nohiddenLayers,noNeuronsInHiddenLayer)\n",
    "        [tmp1,tmp2,tmp3]=nNC.RunNeuralNetwork()\n",
    "        nNC._outNNEstimateList.append(tmp1)\n",
    "        nNC._outNNActual.append(tmp2)\n",
    "        nNC._errNNPrct.append(tmp3)\n",
    "        print \"****************\""
   ]
  },
  {
   "cell_type": "raw",
   "metadata": {},
   "source": [
    "Now plot the most promising of the neural network results."
   ]
  },
  {
   "cell_type": "code",
   "execution_count": 181,
   "metadata": {
    "collapsed": false
   },
   "outputs": [
    {
     "name": "stdout",
     "output_type": "stream",
     "text": [
      "The best dataset so far predicted  60.0 % of the data right!\n"
     ]
    },
    {
     "data": {
      "image/png": "[encoded data removed]",
      "text/plain": [
       "<matplotlib.figure.Figure at 0x7f3408d7d350>"
      ]
     },
     "metadata": {},
     "output_type": "display_data"
    }
   ],
   "source": [
    "plt.figure(num=None, figsize=(10, 8))\n",
    "mIndex=nNC._errNNPrct.index(max(nNC._errNNPrct))\n",
    "print \"The best dataset so far predicted \",nNC._errNNPrct[mIndex][0],\"% of the data right!\"\n",
    "errorList=[]\n",
    "for (estimate,actual) in zip(nNC._outNNEstimateList[mIndex],nNC._outNNActual[mIndex]):\n",
    "    if estimate==actual:\n",
    "        errorList.append(np.nan)\n",
    "    else:\n",
    "        errorList.append(actual)\n",
    "plt.plot(nNC._outNNEstimateList[mIndex],'o', label='estimated data')\n",
    "plt.plot(nNC._outNNActual[mIndex], label='actual game data')\n",
    "plt.plot(errorList,\"x\",markersize=20, label='failed prediction')\n",
    "plt.xlabel(\"number of data set\")\n",
    "plt.ylabel(\"win=1/loss=0\")\n",
    "plt.legend(fontsize=20)\n",
    "axes = plt.gca()\n",
    "axes.set_ylim([-0.4,1.5])\n",
    "axes.set_xlim([-1,len(nNC._outNNActual)+1]);\n",
    "for item in ([axes.title, axes.xaxis.label, axes.yaxis.label] +\n",
    "             axes.get_xticklabels() + axes.get_yticklabels()):\n",
    "    item.set_fontsize(20)"
   ]
  },
  {
   "cell_type": "raw",
   "metadata": {},
   "source": [
    "Finally we got results which are slightly better than 50/50, but suspicion is still in order as the number of datasets to train the neural network is inherently limited. We can not push to far behind in the history of the matchups of two teams, first as the data is not available, second, as the teams consistency varies strongly over time, making a look at the history only of limit help in predicting the future."
   ]
  },
  {
   "cell_type": "code",
   "execution_count": null,
   "metadata": {
    "collapsed": true
   },
   "outputs": [],
   "source": []
  }
 ],
 "metadata": {
  "kernelspec": {
   "display_name": "Python 2",
   "language": "python",
   "name": "python2"
  },
  "language_info": {
   "codemirror_mode": {
    "name": "ipython",
    "version": 2
   },
   "file_extension": ".py",
   "mimetype": "text/x-python",
   "name": "python",
   "nbconvert_exporter": "python",
   "pygments_lexer": "ipython2",
   "version": "2.7.6"
  }
 },
 "nbformat": 4,
 "nbformat_minor": 0
}
