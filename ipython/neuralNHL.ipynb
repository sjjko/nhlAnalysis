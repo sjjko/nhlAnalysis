{
 "cells": [
  {
   "cell_type": "code",
   "execution_count": 49,
   "metadata": {},
   "outputs": [
    {
     "name": "stdout",
     "output_type": "stream",
     "text": [
      "The autoreload extension is already loaded. To reload it, use:\n",
      "  %reload_ext autoreload\n"
     ]
    }
   ],
   "source": [
    "%load_ext autoreload\n",
    "%autoreload 2\n",
    "%matplotlib inline"
   ]
  },
  {
   "cell_type": "markdown",
   "metadata": {},
   "source": [
    "data mining of NHL data - author: s. konzett-stoffl\\nmethods devised after the book \"Data Mining and Analysis\" by Zakin and Meira\" using nhlscrapi, fetched at http://pythonhosted.org/nhlscrapi\\nand the analysis library scikit learn - the NHL scraper is nhlscrapi, written by Rob Howley - it is distributed under the Apache license - used version in 0.4.3."
   ]
  },
  {
   "cell_type": "raw",
   "metadata": {}
  },
  {
   "cell_type": "raw",
   "metadata": {}
  },
  {
   "cell_type": "raw",
   "metadata": {}
  },
  {
   "cell_type": "raw",
   "metadata": {}
  },
  {
   "cell_type": "code",
   "execution_count": 50,
   "metadata": {},
   "outputs": [
    {
     "name": "stdout",
     "output_type": "stream",
     "text": [
      "data preparation finished.\n",
      "we have found, read and processed the following datasets:\n",
      "following seasons for delta values: \n",
      "[2010, 2011, 2012, 2013, 2014, 2015, 2016]\n",
      "following seasons for summed values: \n",
      "[2010, 2011, 2012, 2013, 2014, 2015, 2016]\n"
     ]
    }
   ],
   "source": [
    "from setupNhlDataC import prepareDataC\n",
    "pDC=prepareDataC(\"all\",readUsingTK=False)\n",
    "pDC.prepareData()"
   ]
  },
  {
   "cell_type": "markdown",
   "metadata": {},
   "source": [
    "Now as the data is stored in the pDC instance of the data preparation class, we can initialize the Neural Network class. The data is transferred by the AnalysisC class, which interconnects the data analysis classes."
   ]
  },
  {
   "cell_type": "code",
   "execution_count": 51,
   "metadata": {},
   "outputs": [
    {
     "name": "stdout",
     "output_type": "stream",
     "text": [
      "AnalysisC class instance successfully initialized!\n"
     ]
    }
   ],
   "source": [
    "from NHLstat import AnalysisC, NeuralNetworkAnalysisC\n",
    "aNC=AnalysisC(pDC)"
   ]
  },
  {
   "cell_type": "raw",
   "metadata": {}
  },
  {
   "cell_type": "code",
   "execution_count": 52,
   "metadata": {},
   "outputs": [],
   "source": [
    "nNC=NeuralNetworkAnalysisC(aNC)"
   ]
  },
  {
   "cell_type": "raw",
   "metadata": {}
  },
  {
   "cell_type": "raw",
   "metadata": {}
  },
  {
   "cell_type": "code",
   "execution_count": 53,
   "metadata": {},
   "outputs": [],
   "source": [
    "nNC.SetCurrentlyAnalyzedDataSetDict(0)"
   ]
  },
  {
   "cell_type": "raw",
   "metadata": {}
  },
  {
   "cell_type": "code",
   "execution_count": 54,
   "metadata": {},
   "outputs": [],
   "source": [
    "nNC.SetNoHiddenNeuronLayersMinMax(1,3)\n",
    "nNC.SetHiddenNeuronsAsMultipleOfInputNeurons(2)"
   ]
  },
  {
   "cell_type": "markdown",
   "metadata": {},
   "source": [
    "Now that we've set the data set to be the one with differences of game stats we prepare the data as described in the 6 categories above. Here we specify also the two teams to look at, it's my favorite team, the Islanders and the New York Rangers."
   ]
  },
  {
   "cell_type": "code",
   "execution_count": 61,
   "metadata": {},
   "outputs": [
    {
     "name": "stdout",
     "output_type": "stream",
     "text": [
      "Finished the preparation of input data for Neural Network.\n",
      "The input dataset contains 238 samples \n",
      "We have 238 input datasets and one output dataset\n"
     ]
    }
   ],
   "source": [
    "nNC.SetupNNDataMatchup(\"NYI\",\"NYR\")"
   ]
  },
  {
   "cell_type": "raw",
   "metadata": {}
  },
  {
   "cell_type": "markdown",
   "metadata": {},
   "source": [
    "The mean values indicate a statistical prevalence of higher winning chances for less penalty minutes. The skewness, which marks the asymmetry of the statistics, also sees a trend towards fewer penalty minutes than the opponent if winning. Finally the kurtosis shows a larger spread of data for the lost games, indicating that in games with many penalty minutes losing is more probable."
   ]
  },
  {
   "cell_type": "markdown",
   "metadata": {},
   "source": []
  },
  {
   "cell_type": "markdown",
   "metadata": {},
   "source": [
    "Latex\n",
    "%%\\phi%%"
   ]
  },
  {
   "cell_type": "markdown",
   "metadata": {},
   "source": [
    "### Pattern searching - looking for the most probable configuration"
   ]
  }
 ],
 "metadata": {
  "kernelspec": {
   "display_name": "Python 2",
   "language": "python",
   "name": "python2"
  },
  "language_info": {
   "codemirror_mode": {
    "name": "ipython",
    "version": 2.0
   },
   "file_extension": ".py",
   "mimetype": "text/x-python",
   "name": "python",
   "nbconvert_exporter": "python",
   "pygments_lexer": "ipython2",
   "version": "2.7.6"
  }
 },
 "nbformat": 4,
 "nbformat_minor": 0
}